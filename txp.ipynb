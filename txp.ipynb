{
 "cells": [
  {
   "cell_type": "code",
   "execution_count": 1,
   "metadata": {},
   "outputs": [],
   "source": [
    "import pandas as pan\n",
    "import numpy as np\n",
    "import matplotlib.pyplot as plotter\n",
    "import seaborn as sns"
   ]
  },
  {
   "cell_type": "code",
   "execution_count": 23,
   "metadata": {},
   "outputs": [
    {
     "data": {
      "text/plain": [
       "['this',\n",
       " 'is',\n",
       " 'a',\n",
       " 'story',\n",
       " 'about',\n",
       " 'dogs',\n",
       " 'our',\n",
       " 'canine',\n",
       " 'pets',\n",
       " 'dogs',\n",
       " 'are',\n",
       " 'furry',\n",
       " 'animals']"
      ]
     },
     "execution_count": 23,
     "metadata": {},
     "output_type": "execute_result"
    }
   ],
   "source": [
    "#creating a bag of word by meself \n",
    "def read_file(filepath = \"One.txt\"):\n",
    "    try:\n",
    "        mytext = open(filepath, mode = \"r\")\n",
    "        strs = mytext.read()\n",
    "    except:\n",
    "        print(\"try again!\")\n",
    "    return strs.lower().split()\n",
    "\n",
    "strs = read_file()\n",
    "strs"
   ]
  },
  {
   "cell_type": "code",
   "execution_count": 26,
   "metadata": {},
   "outputs": [
    {
     "data": {
      "text/plain": [
       "{'sport': 0,\n",
       " 'is': 1,\n",
       " 'popular': 2,\n",
       " 'story': 3,\n",
       " 'about': 4,\n",
       " 'canine': 5,\n",
       " 'pets': 6,\n",
       " 'our': 7,\n",
       " 'water': 8,\n",
       " 'furry': 9,\n",
       " 'catching': 10,\n",
       " 'a': 11,\n",
       " 'surfing': 12,\n",
       " 'dogs': 13,\n",
       " 'fun': 14,\n",
       " 'are': 15,\n",
       " 'animals': 16,\n",
       " 'this': 17,\n",
       " 'waves': 18}"
      ]
     },
     "execution_count": 26,
     "metadata": {},
     "output_type": "execute_result"
    }
   ],
   "source": [
    "strs_two = read_file(\"Two.txt\")\n",
    "strs_two\n",
    "unique_strs = {word for word in strs}\n",
    "unique_strs_two = set(strs_two)\n",
    "comb_unique_strs = unique_strs.union(unique_strs_two)\n",
    "vocab = dict()\n",
    "count = 0\n",
    "for i in comb_unique_strs:\n",
    "    vocab[i] = count\n",
    "    count += 1 \n",
    "vocab    "
   ]
  },
  {
   "cell_type": "code",
   "execution_count": 27,
   "metadata": {},
   "outputs": [
    {
     "data": {
      "text/plain": [
       "['', '', '', '', '', '', '', '', '', '', '', '', '', '', '', '', '', '', '']"
      ]
     },
     "execution_count": 27,
     "metadata": {},
     "output_type": "execute_result"
    }
   ],
   "source": [
    "frequency = [0]*len(vocab)\n",
    "frequency_twp = [0]*len(vocab)\n",
    "all_words = [\"\"]*len(vocab)\n",
    "all_words"
   ]
  },
  {
   "cell_type": "code",
   "execution_count": 28,
   "metadata": {},
   "outputs": [],
   "source": [
    "for word in strs:\n",
    "    indx = vocab[word]\n",
    "    frequency[indx] += 1\n"
   ]
  },
  {
   "cell_type": "code",
   "execution_count": 29,
   "metadata": {},
   "outputs": [],
   "source": [
    "for word in strs_two:\n",
    "    indx = vocab[word]\n",
    "    frequency_twp[indx] += 1"
   ]
  },
  {
   "cell_type": "code",
   "execution_count": 31,
   "metadata": {},
   "outputs": [
    {
     "data": {
      "text/plain": [
       "[1, 3, 1, 1, 1, 0, 0, 0, 1, 0, 1, 1, 2, 0, 1, 0, 0, 1, 1]"
      ]
     },
     "execution_count": 31,
     "metadata": {},
     "output_type": "execute_result"
    }
   ],
   "source": [
    "frequency_twp"
   ]
  },
  {
   "cell_type": "code",
   "execution_count": 32,
   "metadata": {},
   "outputs": [],
   "source": [
    "for word in vocab:\n",
    "    ind = vocab[word]\n",
    "    all_words[ind] = word"
   ]
  },
  {
   "cell_type": "code",
   "execution_count": 36,
   "metadata": {},
   "outputs": [
    {
     "data": {
      "text/html": [
       "<div>\n",
       "<style scoped>\n",
       "    .dataframe tbody tr th:only-of-type {\n",
       "        vertical-align: middle;\n",
       "    }\n",
       "\n",
       "    .dataframe tbody tr th {\n",
       "        vertical-align: top;\n",
       "    }\n",
       "\n",
       "    .dataframe thead th {\n",
       "        text-align: right;\n",
       "    }\n",
       "</style>\n",
       "<table border=\"1\" class=\"dataframe\">\n",
       "  <thead>\n",
       "    <tr style=\"text-align: right;\">\n",
       "      <th></th>\n",
       "      <th>sport</th>\n",
       "      <th>is</th>\n",
       "      <th>popular</th>\n",
       "      <th>story</th>\n",
       "      <th>about</th>\n",
       "      <th>canine</th>\n",
       "      <th>pets</th>\n",
       "      <th>our</th>\n",
       "      <th>water</th>\n",
       "      <th>furry</th>\n",
       "      <th>catching</th>\n",
       "      <th>a</th>\n",
       "      <th>surfing</th>\n",
       "      <th>dogs</th>\n",
       "      <th>fun</th>\n",
       "      <th>are</th>\n",
       "      <th>animals</th>\n",
       "      <th>this</th>\n",
       "      <th>waves</th>\n",
       "    </tr>\n",
       "  </thead>\n",
       "  <tbody>\n",
       "    <tr>\n",
       "      <th>0</th>\n",
       "      <td>0</td>\n",
       "      <td>1</td>\n",
       "      <td>0</td>\n",
       "      <td>1</td>\n",
       "      <td>1</td>\n",
       "      <td>1</td>\n",
       "      <td>1</td>\n",
       "      <td>1</td>\n",
       "      <td>0</td>\n",
       "      <td>1</td>\n",
       "      <td>0</td>\n",
       "      <td>1</td>\n",
       "      <td>0</td>\n",
       "      <td>2</td>\n",
       "      <td>0</td>\n",
       "      <td>1</td>\n",
       "      <td>1</td>\n",
       "      <td>1</td>\n",
       "      <td>0</td>\n",
       "    </tr>\n",
       "    <tr>\n",
       "      <th>1</th>\n",
       "      <td>1</td>\n",
       "      <td>3</td>\n",
       "      <td>1</td>\n",
       "      <td>1</td>\n",
       "      <td>1</td>\n",
       "      <td>0</td>\n",
       "      <td>0</td>\n",
       "      <td>0</td>\n",
       "      <td>1</td>\n",
       "      <td>0</td>\n",
       "      <td>1</td>\n",
       "      <td>1</td>\n",
       "      <td>2</td>\n",
       "      <td>0</td>\n",
       "      <td>1</td>\n",
       "      <td>0</td>\n",
       "      <td>0</td>\n",
       "      <td>1</td>\n",
       "      <td>1</td>\n",
       "    </tr>\n",
       "  </tbody>\n",
       "</table>\n",
       "</div>"
      ],
      "text/plain": [
       "   sport  is  popular  story  about  canine  pets  our  water  furry   \n",
       "0      0   1        0      1      1       1     1    1      0      1  \\\n",
       "1      1   3        1      1      1       0     0    0      1      0   \n",
       "\n",
       "   catching  a  surfing  dogs  fun  are  animals  this  waves  \n",
       "0         0  1        0     2    0    1        1     1      0  \n",
       "1         1  1        2     0    1    0        0     1      1  "
      ]
     },
     "execution_count": 36,
     "metadata": {},
     "output_type": "execute_result"
    }
   ],
   "source": [
    "bow = pan.DataFrame(data = [frequency, frequency_twp], columns = all_words)\n",
    "bow"
   ]
  }
 ],
 "metadata": {
  "kernelspec": {
   "display_name": "Python 3",
   "language": "python",
   "name": "python3"
  },
  "language_info": {
   "codemirror_mode": {
    "name": "ipython",
    "version": 3
   },
   "file_extension": ".py",
   "mimetype": "text/x-python",
   "name": "python",
   "nbconvert_exporter": "python",
   "pygments_lexer": "ipython3",
   "version": "3.11.2"
  },
  "orig_nbformat": 4
 },
 "nbformat": 4,
 "nbformat_minor": 2
}
